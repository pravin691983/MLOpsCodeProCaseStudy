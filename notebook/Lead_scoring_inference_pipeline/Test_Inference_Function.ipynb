{
 "cells": [
  {
   "cell_type": "code",
   "execution_count": 1,
   "id": "c5ed8a71-fa1a-46a8-a1a9-32c4cb344b42",
   "metadata": {},
   "outputs": [],
   "source": [
    "from airflow import DAG\n",
    "from airflow.operators.python import PythonOperator\n",
    "from airflow.operators.bash import BashOperator\n",
    "\n",
    "from datetime import datetime, timedelta\n",
    "import sys\n",
    "import importlib.util\n"
   ]
  },
  {
   "cell_type": "code",
   "execution_count": 2,
   "id": "1eec473b-e6bc-4d94-ba79-8561da8bdff0",
   "metadata": {},
   "outputs": [],
   "source": [
    "def module_from_file(module_name, file_path):\n",
    "    spec = importlib.util.spec_from_file_location(module_name, file_path)\n",
    "    module = importlib.util.module_from_spec(spec)\n",
    "    spec.loader.exec_module(module)\n",
    "    return module"
   ]
  },
  {
   "cell_type": "code",
   "execution_count": 4,
   "id": "89d3e173-09af-4cc2-9af3-6f5b6543f4c5",
   "metadata": {},
   "outputs": [],
   "source": [
    "\n",
    "# import * does not work causing some issues, loading modules as taught in live session\n",
    "utils = module_from_file(\"utils\", \"/home/airflow/notebook/Lead_scoring_inference_pipeline/utils.py\")\n",
    "constants = module_from_file(\"constants\", \"/home/airflow/notebook/Lead_scoring_inference_pipeline/constants.py\") "
   ]
  },
  {
   "cell_type": "code",
   "execution_count": 5,
   "id": "9ef182ed-a10c-4e2d-88b9-f776bfe16a02",
   "metadata": {},
   "outputs": [],
   "source": [
    "db_path=constants.DB_PATH\n",
    "db_file_name=constants.DB_FILE_NAME\n",
    "scripts_output=constants.SCRIPTS_OUTPUT\n",
    "\n",
    "db_file_mlflow=constants.DB_FILE_MLFLOW\n",
    "tracking_uri=constants.TRACKING_URI\n",
    "\n",
    "model_name=constants.MODEL_NAME\n",
    "model_stage=constants.STAGE\n",
    "\n",
    "one_hot_encoded_features=constants.ONE_HOT_ENCODED_FEATURES\n",
    "features_to_encode=constants.FEATURES_TO_ENCODE"
   ]
  },
  {
   "cell_type": "code",
   "execution_count": 6,
   "id": "bb31242f-1e86-44d1-b93f-440f3947727c",
   "metadata": {},
   "outputs": [
    {
     "name": "stdout",
     "output_type": "stream",
     "text": [
      "/home/airflow/notebook/Lead_scoring_data_pipeline/\n",
      "utils_output.db\n",
      "/home/airflow/notebook/Lead_scoring_data_pipeline/\n",
      "/home/database/Lead_scoring_mlflow_production.db\n"
     ]
    }
   ],
   "source": [
    "print(db_path)\n",
    "print(db_file_name)\n",
    "print(scripts_output)\n",
    "print(db_file_mlflow)"
   ]
  },
  {
   "cell_type": "code",
   "execution_count": 7,
   "id": "4d29d74b-ec03-4e02-a762-df76917c886c",
   "metadata": {},
   "outputs": [
    {
     "data": {
      "text/plain": [
       "('LightGBM', 'production', 'http://0.0.0.0:6006')"
      ]
     },
     "execution_count": 7,
     "metadata": {},
     "output_type": "execute_result"
    }
   ],
   "source": [
    "model_name,model_stage,tracking_uri"
   ]
  },
  {
   "cell_type": "code",
   "execution_count": 8,
   "id": "f62eb9bf-1161-43ea-a5fd-93b721cb7623",
   "metadata": {},
   "outputs": [
    {
     "data": {
      "text/plain": [
       "['total_leads_droppped',\n",
       " 'city_tier',\n",
       " 'first_platform_c_Level8',\n",
       " 'first_platform_c_others',\n",
       " 'first_platform_c_Level2',\n",
       " 'first_utm_medium_c_others',\n",
       " 'first_utm_medium_c_Level13',\n",
       " 'first_utm_medium_c_Level0',\n",
       " 'first_platform_c_Level7',\n",
       " 'first_platform_c_Level0']"
      ]
     },
     "execution_count": 8,
     "metadata": {},
     "output_type": "execute_result"
    }
   ],
   "source": [
    "one_hot_encoded_features"
   ]
  },
  {
   "cell_type": "code",
   "execution_count": 9,
   "id": "8973b7a8-4bc2-4574-9cc3-3c094f32d215",
   "metadata": {},
   "outputs": [
    {
     "data": {
      "text/plain": [
       "['first_platform_c', 'first_utm_medium_c', 'first_utm_source_c']"
      ]
     },
     "execution_count": 9,
     "metadata": {},
     "output_type": "execute_result"
    }
   ],
   "source": [
    "features_to_encode"
   ]
  },
  {
   "cell_type": "code",
   "execution_count": 12,
   "id": "41b72a63-cf87-40c9-ab11-650928bf2afc",
   "metadata": {},
   "outputs": [],
   "source": [
    "# def load_data(file_path_list):\n",
    "#     data = []\n",
    "#     for eachfile in file_path_list:\n",
    "#         data.append(pd.read_csv(eachfile, index_col=0))\n",
    "#     return data\n",
    "\n",
    "# def __read_input_data(db_path, db_file_name, table_name):\n",
    "#     cnx = sqlite3.connect(db_path + db_file_name)\n",
    "#     df = pd.read_sql('select * from '+ table_name, cnx)\n",
    "#     df.drop(columns=['level_0', 'index'], axis = 1, inplace=True, errors='ignore')\n",
    "#     cnx.close()\n",
    "#     print(\"Data has been extracted successfully from lead_scoring_model_experimentation.\")\n",
    "#     return df\n",
    "\n",
    "# def __save_data_to_db(db_path, db_file_name, input_data, table):\n",
    "#     cnx = sqlite3.connect(db_path + db_file_name)\n",
    "#     input_data.to_sql(name=table, con=cnx, if_exists='replace')\n",
    "#     print('input_data has been saved successfully to table ' + table);\n",
    "#     cnx.close()"
   ]
  },
  {
   "cell_type": "code",
   "execution_count": 10,
   "id": "5c0e8b5a-0401-49f0-a04f-864a8200be6f",
   "metadata": {},
   "outputs": [
    {
     "name": "stdout",
     "output_type": "stream",
     "text": [
      "Data has been extracted successfully from lead_scoring_model_experimentation.\n",
      "input_data has been saved successfully to table features\n"
     ]
    }
   ],
   "source": [
    "utils.encode_features(db_path, db_file_name, one_hot_encoded_features, features_to_encode)"
   ]
  },
  {
   "cell_type": "code",
   "execution_count": 11,
   "id": "52ca062d-2780-4635-9813-8dc332bf3ef1",
   "metadata": {},
   "outputs": [
    {
     "name": "stdout",
     "output_type": "stream",
     "text": [
      "Data has been extracted successfully from lead_scoring_model_experimentation.\n"
     ]
    }
   ],
   "source": [
    "input_data = utils.__read_input_data(db_path, db_file_name, 'features')\n",
    "source_cols = input_data.columns.to_list()"
   ]
  },
  {
   "cell_type": "code",
   "execution_count": 12,
   "id": "183d8792-c4ba-4881-b587-81a8e987563b",
   "metadata": {},
   "outputs": [
    {
     "data": {
      "text/plain": [
       "['first_platform_c',\n",
       " 'first_utm_medium_c',\n",
       " 'first_utm_source_c',\n",
       " 'total_leads_droppped',\n",
       " 'city_tier',\n",
       " 'first_platform_c_Level8',\n",
       " 'first_platform_c_others',\n",
       " 'first_platform_c_Level2',\n",
       " 'first_utm_medium_c_others',\n",
       " 'first_utm_medium_c_Level0',\n",
       " 'first_platform_c_Level7',\n",
       " 'first_platform_c_Level0']"
      ]
     },
     "execution_count": 12,
     "metadata": {},
     "output_type": "execute_result"
    }
   ],
   "source": [
    "source_cols"
   ]
  },
  {
   "cell_type": "code",
   "execution_count": 16,
   "id": "ce40ce41-fa98-41ef-b8e5-7db70648b9d3",
   "metadata": {},
   "outputs": [
    {
     "name": "stdout",
     "output_type": "stream",
     "text": [
      "Data has been extracted successfully from lead_scoring_model_experimentation.\n",
      "[1 0 0 ... 1 1 1]\n",
      "input_data has been saved successfully to table predicted_output\n"
     ]
    },
    {
     "data": {
      "text/plain": [
       "'Predictions are done and save in Final_Predictions Table'"
      ]
     },
     "execution_count": 16,
     "metadata": {},
     "output_type": "execute_result"
    }
   ],
   "source": [
    "utils.get_models_prediction(db_path, db_file_name, model_name, model_stage, tracking_uri)"
   ]
  },
  {
   "cell_type": "code",
   "execution_count": 15,
   "id": "77e0fe50-87e1-40b0-b5f1-6714f7b23241",
   "metadata": {},
   "outputs": [
    {
     "name": "stdout",
     "output_type": "stream",
     "text": [
      "models:/LightGBM/production\n"
     ]
    }
   ],
   "source": [
    "model_name='LightGBM'\n",
    "model_stage='production'\n",
    "model_uri = \"models:/{model_name}/{model_stage}\".format(model_name=model_name, model_stage=model_stage)\n",
    "print(model_uri)"
   ]
  },
  {
   "cell_type": "code",
   "execution_count": 17,
   "id": "8f08fab6-d987-4b24-8dea-1e521f9befa7",
   "metadata": {},
   "outputs": [
    {
     "name": "stdout",
     "output_type": "stream",
     "text": [
      "Data has been extracted successfully from lead_scoring_model_experimentation.\n",
      "Output file has been generated successfully /home/airflow/notebook/Lead_scoring_data_pipeline/prediction_distribution_20230708150818.txt\n"
     ]
    }
   ],
   "source": [
    "utils.prediction_ratio_check(db_path, db_file_name, scripts_output)"
   ]
  },
  {
   "cell_type": "code",
   "execution_count": 18,
   "id": "22ef00dd-e0c6-451e-bf7b-e54ee17c25b4",
   "metadata": {},
   "outputs": [
    {
     "name": "stdout",
     "output_type": "stream",
     "text": [
      "Data has been extracted successfully from lead_scoring_model_experimentation.\n",
      "Some of the models inputs are missing\n"
     ]
    }
   ],
   "source": [
    "utils.input_features_check(db_path, db_file_name, one_hot_encoded_features)"
   ]
  },
  {
   "cell_type": "code",
   "execution_count": 23,
   "id": "6841fed3-f8cd-499e-8ee5-44af0bec397a",
   "metadata": {},
   "outputs": [],
   "source": [
    "import pandas as pd\n",
    "import sqlite3"
   ]
  },
  {
   "cell_type": "code",
   "execution_count": 24,
   "id": "d79a7bd9-2480-47ce-81ab-4311bfb297e6",
   "metadata": {},
   "outputs": [
    {
     "name": "stdout",
     "output_type": "stream",
     "text": [
      "(238124, 13)\n"
     ]
    },
    {
     "data": {
      "text/html": [
       "<div>\n",
       "<style scoped>\n",
       "    .dataframe tbody tr th:only-of-type {\n",
       "        vertical-align: middle;\n",
       "    }\n",
       "\n",
       "    .dataframe tbody tr th {\n",
       "        vertical-align: top;\n",
       "    }\n",
       "\n",
       "    .dataframe thead th {\n",
       "        text-align: right;\n",
       "    }\n",
       "</style>\n",
       "<table border=\"1\" class=\"dataframe\">\n",
       "  <thead>\n",
       "    <tr style=\"text-align: right;\">\n",
       "      <th></th>\n",
       "      <th>index</th>\n",
       "      <th>first_platform_c</th>\n",
       "      <th>first_utm_medium_c</th>\n",
       "      <th>first_utm_source_c</th>\n",
       "      <th>total_leads_droppped</th>\n",
       "      <th>city_tier</th>\n",
       "      <th>first_platform_c_Level8</th>\n",
       "      <th>first_platform_c_others</th>\n",
       "      <th>first_platform_c_Level2</th>\n",
       "      <th>first_utm_medium_c_others</th>\n",
       "      <th>first_utm_medium_c_Level0</th>\n",
       "      <th>first_platform_c_Level7</th>\n",
       "      <th>first_platform_c_Level0</th>\n",
       "    </tr>\n",
       "  </thead>\n",
       "  <tbody>\n",
       "    <tr>\n",
       "      <th>0</th>\n",
       "      <td>0</td>\n",
       "      <td>0</td>\n",
       "      <td>0</td>\n",
       "      <td>0</td>\n",
       "      <td>1.0</td>\n",
       "      <td>1.0</td>\n",
       "      <td>0</td>\n",
       "      <td>0</td>\n",
       "      <td>0</td>\n",
       "      <td>1</td>\n",
       "      <td>0</td>\n",
       "      <td>0</td>\n",
       "      <td>1</td>\n",
       "    </tr>\n",
       "    <tr>\n",
       "      <th>1</th>\n",
       "      <td>1</td>\n",
       "      <td>0</td>\n",
       "      <td>0</td>\n",
       "      <td>0</td>\n",
       "      <td>1.0</td>\n",
       "      <td>2.0</td>\n",
       "      <td>0</td>\n",
       "      <td>0</td>\n",
       "      <td>0</td>\n",
       "      <td>0</td>\n",
       "      <td>1</td>\n",
       "      <td>0</td>\n",
       "      <td>0</td>\n",
       "    </tr>\n",
       "    <tr>\n",
       "      <th>2</th>\n",
       "      <td>2</td>\n",
       "      <td>0</td>\n",
       "      <td>0</td>\n",
       "      <td>0</td>\n",
       "      <td>1.0</td>\n",
       "      <td>1.0</td>\n",
       "      <td>0</td>\n",
       "      <td>0</td>\n",
       "      <td>0</td>\n",
       "      <td>0</td>\n",
       "      <td>1</td>\n",
       "      <td>0</td>\n",
       "      <td>0</td>\n",
       "    </tr>\n",
       "    <tr>\n",
       "      <th>3</th>\n",
       "      <td>3</td>\n",
       "      <td>0</td>\n",
       "      <td>0</td>\n",
       "      <td>0</td>\n",
       "      <td>2.0</td>\n",
       "      <td>1.0</td>\n",
       "      <td>0</td>\n",
       "      <td>0</td>\n",
       "      <td>0</td>\n",
       "      <td>0</td>\n",
       "      <td>0</td>\n",
       "      <td>0</td>\n",
       "      <td>0</td>\n",
       "    </tr>\n",
       "    <tr>\n",
       "      <th>4</th>\n",
       "      <td>4</td>\n",
       "      <td>0</td>\n",
       "      <td>0</td>\n",
       "      <td>0</td>\n",
       "      <td>1.0</td>\n",
       "      <td>1.0</td>\n",
       "      <td>0</td>\n",
       "      <td>0</td>\n",
       "      <td>0</td>\n",
       "      <td>0</td>\n",
       "      <td>1</td>\n",
       "      <td>0</td>\n",
       "      <td>0</td>\n",
       "    </tr>\n",
       "    <tr>\n",
       "      <th>5</th>\n",
       "      <td>5</td>\n",
       "      <td>0</td>\n",
       "      <td>0</td>\n",
       "      <td>0</td>\n",
       "      <td>2.0</td>\n",
       "      <td>1.0</td>\n",
       "      <td>0</td>\n",
       "      <td>0</td>\n",
       "      <td>0</td>\n",
       "      <td>0</td>\n",
       "      <td>0</td>\n",
       "      <td>0</td>\n",
       "      <td>1</td>\n",
       "    </tr>\n",
       "    <tr>\n",
       "      <th>6</th>\n",
       "      <td>6</td>\n",
       "      <td>0</td>\n",
       "      <td>0</td>\n",
       "      <td>0</td>\n",
       "      <td>3.0</td>\n",
       "      <td>1.0</td>\n",
       "      <td>0</td>\n",
       "      <td>0</td>\n",
       "      <td>0</td>\n",
       "      <td>0</td>\n",
       "      <td>1</td>\n",
       "      <td>0</td>\n",
       "      <td>0</td>\n",
       "    </tr>\n",
       "    <tr>\n",
       "      <th>7</th>\n",
       "      <td>7</td>\n",
       "      <td>0</td>\n",
       "      <td>0</td>\n",
       "      <td>0</td>\n",
       "      <td>2.0</td>\n",
       "      <td>1.0</td>\n",
       "      <td>0</td>\n",
       "      <td>0</td>\n",
       "      <td>0</td>\n",
       "      <td>0</td>\n",
       "      <td>1</td>\n",
       "      <td>0</td>\n",
       "      <td>0</td>\n",
       "    </tr>\n",
       "    <tr>\n",
       "      <th>8</th>\n",
       "      <td>8</td>\n",
       "      <td>0</td>\n",
       "      <td>0</td>\n",
       "      <td>0</td>\n",
       "      <td>1.0</td>\n",
       "      <td>1.0</td>\n",
       "      <td>0</td>\n",
       "      <td>0</td>\n",
       "      <td>0</td>\n",
       "      <td>0</td>\n",
       "      <td>0</td>\n",
       "      <td>0</td>\n",
       "      <td>1</td>\n",
       "    </tr>\n",
       "    <tr>\n",
       "      <th>9</th>\n",
       "      <td>9</td>\n",
       "      <td>0</td>\n",
       "      <td>0</td>\n",
       "      <td>0</td>\n",
       "      <td>1.0</td>\n",
       "      <td>2.0</td>\n",
       "      <td>0</td>\n",
       "      <td>0</td>\n",
       "      <td>0</td>\n",
       "      <td>1</td>\n",
       "      <td>0</td>\n",
       "      <td>0</td>\n",
       "      <td>0</td>\n",
       "    </tr>\n",
       "  </tbody>\n",
       "</table>\n",
       "</div>"
      ],
      "text/plain": [
       "   index  first_platform_c  first_utm_medium_c  first_utm_source_c  \\\n",
       "0      0                 0                   0                   0   \n",
       "1      1                 0                   0                   0   \n",
       "2      2                 0                   0                   0   \n",
       "3      3                 0                   0                   0   \n",
       "4      4                 0                   0                   0   \n",
       "5      5                 0                   0                   0   \n",
       "6      6                 0                   0                   0   \n",
       "7      7                 0                   0                   0   \n",
       "8      8                 0                   0                   0   \n",
       "9      9                 0                   0                   0   \n",
       "\n",
       "   total_leads_droppped  city_tier  first_platform_c_Level8  \\\n",
       "0                   1.0        1.0                        0   \n",
       "1                   1.0        2.0                        0   \n",
       "2                   1.0        1.0                        0   \n",
       "3                   2.0        1.0                        0   \n",
       "4                   1.0        1.0                        0   \n",
       "5                   2.0        1.0                        0   \n",
       "6                   3.0        1.0                        0   \n",
       "7                   2.0        1.0                        0   \n",
       "8                   1.0        1.0                        0   \n",
       "9                   1.0        2.0                        0   \n",
       "\n",
       "   first_platform_c_others  first_platform_c_Level2  \\\n",
       "0                        0                        0   \n",
       "1                        0                        0   \n",
       "2                        0                        0   \n",
       "3                        0                        0   \n",
       "4                        0                        0   \n",
       "5                        0                        0   \n",
       "6                        0                        0   \n",
       "7                        0                        0   \n",
       "8                        0                        0   \n",
       "9                        0                        0   \n",
       "\n",
       "   first_utm_medium_c_others  first_utm_medium_c_Level0  \\\n",
       "0                          1                          0   \n",
       "1                          0                          1   \n",
       "2                          0                          1   \n",
       "3                          0                          0   \n",
       "4                          0                          1   \n",
       "5                          0                          0   \n",
       "6                          0                          1   \n",
       "7                          0                          1   \n",
       "8                          0                          0   \n",
       "9                          1                          0   \n",
       "\n",
       "   first_platform_c_Level7  first_platform_c_Level0  \n",
       "0                        0                        1  \n",
       "1                        0                        0  \n",
       "2                        0                        0  \n",
       "3                        0                        0  \n",
       "4                        0                        0  \n",
       "5                        0                        1  \n",
       "6                        0                        0  \n",
       "7                        0                        0  \n",
       "8                        0                        1  \n",
       "9                        0                        0  "
      ]
     },
     "execution_count": 24,
     "metadata": {},
     "output_type": "execute_result"
    }
   ],
   "source": [
    "cnx = sqlite3.connect(db_path + db_file_name)\n",
    "df = pd.read_sql(f\"SELECT * FROM features\", cnx)\n",
    "print(df.shape)\n",
    "df.head(10)"
   ]
  },
  {
   "cell_type": "code",
   "execution_count": null,
   "id": "04213212-9b46-41cc-8296-ae9073c1d61f",
   "metadata": {},
   "outputs": [],
   "source": []
  }
 ],
 "metadata": {
  "kernelspec": {
   "display_name": "Python 3 (ipykernel)",
   "language": "python",
   "name": "python3"
  },
  "language_info": {
   "codemirror_mode": {
    "name": "ipython",
    "version": 3
   },
   "file_extension": ".py",
   "mimetype": "text/x-python",
   "name": "python",
   "nbconvert_exporter": "python",
   "pygments_lexer": "ipython3",
   "version": "3.8.12"
  }
 },
 "nbformat": 4,
 "nbformat_minor": 5
}
